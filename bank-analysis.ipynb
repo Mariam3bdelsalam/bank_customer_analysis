{
 "cells": [
  {
   "cell_type": "code",
   "execution_count": 1,
   "id": "b4475a67",
   "metadata": {
    "_cell_guid": "b1076dfc-b9ad-4769-8c92-a6c4dae69d19",
    "_uuid": "8f2839f25d086af736a60e9eeb907d3b93b6e0e5",
    "execution": {
     "iopub.execute_input": "2024-07-10T16:57:45.565875Z",
     "iopub.status.busy": "2024-07-10T16:57:45.565375Z",
     "iopub.status.idle": "2024-07-10T16:57:46.610493Z",
     "shell.execute_reply": "2024-07-10T16:57:46.608983Z"
    },
    "papermill": {
     "duration": 1.058365,
     "end_time": "2024-07-10T16:57:46.613695",
     "exception": false,
     "start_time": "2024-07-10T16:57:45.555330",
     "status": "completed"
    },
    "tags": []
   },
   "outputs": [
    {
     "name": "stdout",
     "output_type": "stream",
     "text": [
      "/kaggle/input/bank-dataset/Bank_Customer.csv\n"
     ]
    }
   ],
   "source": [
    "# This Python 3 environment comes with many helpful analytics libraries installed\n",
    "# It is defined by the kaggle/python Docker image: https://github.com/kaggle/docker-python\n",
    "# For example, here's several helpful packages to load\n",
    "\n",
    "import numpy as np # linear algebra\n",
    "import pandas as pd # data processing, CSV file I/O (e.g. pd.read_csv)\n",
    "import warnings\n",
    "warnings.filterwarnings(\"ignore\")\n",
    "\n",
    "# Input data files are available in the read-only \"../input/\" directory\n",
    "# For example, running this (by clicking run or pressing Shift+Enter) will list all files under the input directory\n",
    "\n",
    "import os\n",
    "for dirname, _, filenames in os.walk('/kaggle/input'):\n",
    "    for filename in filenames:\n",
    "        print(os.path.join(dirname, filename))\n",
    "\n",
    "# You can write up to 20GB to the current directory (/kaggle/working/) that gets preserved as output when you create a version using \"Save & Run All\" \n",
    "# You can also write temporary files to /kaggle/temp/, but they won't be saved outside of the current session"
   ]
  },
  {
   "cell_type": "code",
   "execution_count": 2,
   "id": "ff918765",
   "metadata": {
    "execution": {
     "iopub.execute_input": "2024-07-10T16:57:46.630676Z",
     "iopub.status.busy": "2024-07-10T16:57:46.630114Z",
     "iopub.status.idle": "2024-07-10T16:57:46.700226Z",
     "shell.execute_reply": "2024-07-10T16:57:46.698962Z"
    },
    "papermill": {
     "duration": 0.082149,
     "end_time": "2024-07-10T16:57:46.703354",
     "exception": false,
     "start_time": "2024-07-10T16:57:46.621205",
     "status": "completed"
    },
    "tags": []
   },
   "outputs": [
    {
     "data": {
      "text/html": [
       "<div>\n",
       "<style scoped>\n",
       "    .dataframe tbody tr th:only-of-type {\n",
       "        vertical-align: middle;\n",
       "    }\n",
       "\n",
       "    .dataframe tbody tr th {\n",
       "        vertical-align: top;\n",
       "    }\n",
       "\n",
       "    .dataframe thead th {\n",
       "        text-align: right;\n",
       "    }\n",
       "</style>\n",
       "<table border=\"1\" class=\"dataframe\">\n",
       "  <thead>\n",
       "    <tr style=\"text-align: right;\">\n",
       "      <th></th>\n",
       "      <th>age</th>\n",
       "      <th>job</th>\n",
       "      <th>marital</th>\n",
       "      <th>education</th>\n",
       "      <th>balance</th>\n",
       "      <th>duration</th>\n",
       "    </tr>\n",
       "  </thead>\n",
       "  <tbody>\n",
       "    <tr>\n",
       "      <th>0</th>\n",
       "      <td>58.0</td>\n",
       "      <td>management</td>\n",
       "      <td>married</td>\n",
       "      <td>tertiary</td>\n",
       "      <td>2143</td>\n",
       "      <td>261</td>\n",
       "    </tr>\n",
       "    <tr>\n",
       "      <th>1</th>\n",
       "      <td>44.0</td>\n",
       "      <td>technician</td>\n",
       "      <td>single</td>\n",
       "      <td>secondary</td>\n",
       "      <td>29</td>\n",
       "      <td>151</td>\n",
       "    </tr>\n",
       "    <tr>\n",
       "      <th>2</th>\n",
       "      <td>33.0</td>\n",
       "      <td>entrepreneur</td>\n",
       "      <td>married</td>\n",
       "      <td>secondary</td>\n",
       "      <td>2</td>\n",
       "      <td>76</td>\n",
       "    </tr>\n",
       "    <tr>\n",
       "      <th>3</th>\n",
       "      <td>47.0</td>\n",
       "      <td>blue-collar</td>\n",
       "      <td>married</td>\n",
       "      <td>unknown</td>\n",
       "      <td>1506</td>\n",
       "      <td>92</td>\n",
       "    </tr>\n",
       "    <tr>\n",
       "      <th>4</th>\n",
       "      <td>33.0</td>\n",
       "      <td>unknown</td>\n",
       "      <td>single</td>\n",
       "      <td>unknown</td>\n",
       "      <td>1</td>\n",
       "      <td>198</td>\n",
       "    </tr>\n",
       "    <tr>\n",
       "      <th>...</th>\n",
       "      <td>...</td>\n",
       "      <td>...</td>\n",
       "      <td>...</td>\n",
       "      <td>...</td>\n",
       "      <td>...</td>\n",
       "      <td>...</td>\n",
       "    </tr>\n",
       "    <tr>\n",
       "      <th>1085</th>\n",
       "      <td>NaN</td>\n",
       "      <td>admin.</td>\n",
       "      <td>married</td>\n",
       "      <td>primary</td>\n",
       "      <td>136</td>\n",
       "      <td>283</td>\n",
       "    </tr>\n",
       "    <tr>\n",
       "      <th>1086</th>\n",
       "      <td>NaN</td>\n",
       "      <td>blue-collar</td>\n",
       "      <td>single</td>\n",
       "      <td>unknown</td>\n",
       "      <td>2167</td>\n",
       "      <td>1273</td>\n",
       "    </tr>\n",
       "    <tr>\n",
       "      <th>1087</th>\n",
       "      <td>NaN</td>\n",
       "      <td>blue-collar</td>\n",
       "      <td>married</td>\n",
       "      <td>secondary</td>\n",
       "      <td>309</td>\n",
       "      <td>1574</td>\n",
       "    </tr>\n",
       "    <tr>\n",
       "      <th>1088</th>\n",
       "      <td>NaN</td>\n",
       "      <td>technician</td>\n",
       "      <td>married</td>\n",
       "      <td>secondary</td>\n",
       "      <td>221</td>\n",
       "      <td>139</td>\n",
       "    </tr>\n",
       "    <tr>\n",
       "      <th>1089</th>\n",
       "      <td>NaN</td>\n",
       "      <td>blue-collar</td>\n",
       "      <td>married</td>\n",
       "      <td>primary</td>\n",
       "      <td>321</td>\n",
       "      <td>228</td>\n",
       "    </tr>\n",
       "  </tbody>\n",
       "</table>\n",
       "<p>1090 rows × 6 columns</p>\n",
       "</div>"
      ],
      "text/plain": [
       "       age           job  marital  education  balance duration\n",
       "0     58.0    management  married   tertiary     2143      261\n",
       "1     44.0    technician   single  secondary       29      151\n",
       "2     33.0  entrepreneur  married  secondary        2       76\n",
       "3     47.0   blue-collar  married    unknown     1506       92\n",
       "4     33.0       unknown   single    unknown        1      198\n",
       "...    ...           ...      ...        ...      ...      ...\n",
       "1085   NaN        admin.  married    primary      136      283\n",
       "1086   NaN   blue-collar   single    unknown     2167     1273\n",
       "1087   NaN   blue-collar  married  secondary      309     1574\n",
       "1088   NaN    technician  married  secondary      221      139\n",
       "1089   NaN   blue-collar  married    primary      321      228\n",
       "\n",
       "[1090 rows x 6 columns]"
      ]
     },
     "execution_count": 2,
     "metadata": {},
     "output_type": "execute_result"
    }
   ],
   "source": [
    "df=pd.read_csv(\"/kaggle/input/bank-dataset/Bank_Customer.csv\")\n",
    "df"
   ]
  },
  {
   "cell_type": "code",
   "execution_count": 3,
   "id": "8b27d818",
   "metadata": {
    "execution": {
     "iopub.execute_input": "2024-07-10T16:57:46.721442Z",
     "iopub.status.busy": "2024-07-10T16:57:46.720506Z",
     "iopub.status.idle": "2024-07-10T16:57:46.728707Z",
     "shell.execute_reply": "2024-07-10T16:57:46.727536Z"
    },
    "papermill": {
     "duration": 0.020003,
     "end_time": "2024-07-10T16:57:46.731238",
     "exception": false,
     "start_time": "2024-07-10T16:57:46.711235",
     "status": "completed"
    },
    "tags": []
   },
   "outputs": [
    {
     "data": {
      "text/plain": [
       "(1090, 6)"
      ]
     },
     "execution_count": 3,
     "metadata": {},
     "output_type": "execute_result"
    }
   ],
   "source": [
    "df.shape"
   ]
  },
  {
   "cell_type": "code",
   "execution_count": 4,
   "id": "165b0fae",
   "metadata": {
    "execution": {
     "iopub.execute_input": "2024-07-10T16:57:46.749459Z",
     "iopub.status.busy": "2024-07-10T16:57:46.749049Z",
     "iopub.status.idle": "2024-07-10T16:57:46.773471Z",
     "shell.execute_reply": "2024-07-10T16:57:46.772085Z"
    },
    "papermill": {
     "duration": 0.036797,
     "end_time": "2024-07-10T16:57:46.776117",
     "exception": false,
     "start_time": "2024-07-10T16:57:46.739320",
     "status": "completed"
    },
    "tags": []
   },
   "outputs": [
    {
     "name": "stdout",
     "output_type": "stream",
     "text": [
      "<class 'pandas.core.frame.DataFrame'>\n",
      "RangeIndex: 1090 entries, 0 to 1089\n",
      "Data columns (total 6 columns):\n",
      " #   Column     Non-Null Count  Dtype  \n",
      "---  ------     --------------  -----  \n",
      " 0   age        1000 non-null   float64\n",
      " 1   job        1090 non-null   object \n",
      " 2   marital    1090 non-null   object \n",
      " 3   education  1090 non-null   object \n",
      " 4   balance    1090 non-null   int64  \n",
      " 5   duration   1090 non-null   object \n",
      "dtypes: float64(1), int64(1), object(4)\n",
      "memory usage: 51.2+ KB\n"
     ]
    }
   ],
   "source": [
    "df.info()"
   ]
  },
  {
   "cell_type": "code",
   "execution_count": 5,
   "id": "d2228919",
   "metadata": {
    "execution": {
     "iopub.execute_input": "2024-07-10T16:57:46.795165Z",
     "iopub.status.busy": "2024-07-10T16:57:46.794680Z",
     "iopub.status.idle": "2024-07-10T16:57:46.805606Z",
     "shell.execute_reply": "2024-07-10T16:57:46.804326Z"
    },
    "papermill": {
     "duration": 0.024016,
     "end_time": "2024-07-10T16:57:46.808251",
     "exception": false,
     "start_time": "2024-07-10T16:57:46.784235",
     "status": "completed"
    },
    "tags": []
   },
   "outputs": [
    {
     "data": {
      "text/plain": [
       "0"
      ]
     },
     "execution_count": 5,
     "metadata": {},
     "output_type": "execute_result"
    }
   ],
   "source": [
    "df.duplicated().sum()"
   ]
  },
  {
   "cell_type": "code",
   "execution_count": 6,
   "id": "304275a4",
   "metadata": {
    "execution": {
     "iopub.execute_input": "2024-07-10T16:57:46.827536Z",
     "iopub.status.busy": "2024-07-10T16:57:46.826394Z",
     "iopub.status.idle": "2024-07-10T16:57:46.836842Z",
     "shell.execute_reply": "2024-07-10T16:57:46.835716Z"
    },
    "papermill": {
     "duration": 0.023271,
     "end_time": "2024-07-10T16:57:46.839713",
     "exception": false,
     "start_time": "2024-07-10T16:57:46.816442",
     "status": "completed"
    },
    "tags": []
   },
   "outputs": [
    {
     "data": {
      "text/plain": [
       "age          90\n",
       "job           0\n",
       "marital       0\n",
       "education     0\n",
       "balance       0\n",
       "duration      0\n",
       "dtype: int64"
      ]
     },
     "execution_count": 6,
     "metadata": {},
     "output_type": "execute_result"
    }
   ],
   "source": [
    "df.isna().sum()"
   ]
  },
  {
   "cell_type": "code",
   "execution_count": 7,
   "id": "72808c89",
   "metadata": {
    "execution": {
     "iopub.execute_input": "2024-07-10T16:57:46.858361Z",
     "iopub.status.busy": "2024-07-10T16:57:46.857944Z",
     "iopub.status.idle": "2024-07-10T16:57:46.864732Z",
     "shell.execute_reply": "2024-07-10T16:57:46.863335Z"
    },
    "papermill": {
     "duration": 0.018886,
     "end_time": "2024-07-10T16:57:46.867249",
     "exception": false,
     "start_time": "2024-07-10T16:57:46.848363",
     "status": "completed"
    },
    "tags": []
   },
   "outputs": [],
   "source": [
    "df['age']=df['age'].fillna(df['age'].mean())"
   ]
  },
  {
   "cell_type": "code",
   "execution_count": 8,
   "id": "dad97f1a",
   "metadata": {
    "execution": {
     "iopub.execute_input": "2024-07-10T16:57:46.886513Z",
     "iopub.status.busy": "2024-07-10T16:57:46.886090Z",
     "iopub.status.idle": "2024-07-10T16:57:46.900606Z",
     "shell.execute_reply": "2024-07-10T16:57:46.899343Z"
    },
    "papermill": {
     "duration": 0.027688,
     "end_time": "2024-07-10T16:57:46.903363",
     "exception": false,
     "start_time": "2024-07-10T16:57:46.875675",
     "status": "completed"
    },
    "tags": []
   },
   "outputs": [
    {
     "data": {
      "text/plain": [
       "count    1090.000000\n",
       "mean       42.582000\n",
       "std         8.687159\n",
       "min        22.000000\n",
       "25%        36.000000\n",
       "50%        42.582000\n",
       "75%        49.000000\n",
       "max        61.000000\n",
       "Name: age, dtype: float64"
      ]
     },
     "execution_count": 8,
     "metadata": {},
     "output_type": "execute_result"
    }
   ],
   "source": [
    "df['age'].describe()"
   ]
  },
  {
   "cell_type": "code",
   "execution_count": 9,
   "id": "9b7ad8e9",
   "metadata": {
    "execution": {
     "iopub.execute_input": "2024-07-10T16:57:46.922501Z",
     "iopub.status.busy": "2024-07-10T16:57:46.922085Z",
     "iopub.status.idle": "2024-07-10T16:57:46.931665Z",
     "shell.execute_reply": "2024-07-10T16:57:46.930624Z"
    },
    "papermill": {
     "duration": 0.022173,
     "end_time": "2024-07-10T16:57:46.934066",
     "exception": false,
     "start_time": "2024-07-10T16:57:46.911893",
     "status": "completed"
    },
    "tags": []
   },
   "outputs": [
    {
     "data": {
      "text/plain": [
       "job\n",
       "blue-collar      333\n",
       "technician       163\n",
       "admin.           149\n",
       "management       146\n",
       "services         141\n",
       "retired           47\n",
       "entrepreneur      32\n",
       "self-employed     27\n",
       "unemployed        23\n",
       "student           14\n",
       "housemaid         10\n",
       "unknown            5\n",
       "Name: count, dtype: int64"
      ]
     },
     "execution_count": 9,
     "metadata": {},
     "output_type": "execute_result"
    }
   ],
   "source": [
    "df['job'].value_counts()"
   ]
  },
  {
   "cell_type": "code",
   "execution_count": 10,
   "id": "36310ee2",
   "metadata": {
    "execution": {
     "iopub.execute_input": "2024-07-10T16:57:46.954010Z",
     "iopub.status.busy": "2024-07-10T16:57:46.953623Z",
     "iopub.status.idle": "2024-07-10T16:57:46.963370Z",
     "shell.execute_reply": "2024-07-10T16:57:46.962084Z"
    },
    "papermill": {
     "duration": 0.022491,
     "end_time": "2024-07-10T16:57:46.965901",
     "exception": false,
     "start_time": "2024-07-10T16:57:46.943410",
     "status": "completed"
    },
    "tags": []
   },
   "outputs": [
    {
     "data": {
      "text/plain": [
       "education\n",
       "secondary    613\n",
       "tertiary     197\n",
       "primary      186\n",
       "unknown       94\n",
       "Name: count, dtype: int64"
      ]
     },
     "execution_count": 10,
     "metadata": {},
     "output_type": "execute_result"
    }
   ],
   "source": [
    "df['education'].value_counts()"
   ]
  },
  {
   "cell_type": "code",
   "execution_count": 11,
   "id": "35bf25b1",
   "metadata": {
    "execution": {
     "iopub.execute_input": "2024-07-10T16:57:46.985390Z",
     "iopub.status.busy": "2024-07-10T16:57:46.984985Z",
     "iopub.status.idle": "2024-07-10T16:57:46.994108Z",
     "shell.execute_reply": "2024-07-10T16:57:46.992719Z"
    },
    "papermill": {
     "duration": 0.02177,
     "end_time": "2024-07-10T16:57:46.996615",
     "exception": false,
     "start_time": "2024-07-10T16:57:46.974845",
     "status": "completed"
    },
    "tags": []
   },
   "outputs": [],
   "source": [
    "df['job'].replace(\"unknown\",df['job'].mode()[0],inplace=True)\n",
    "df['education'].replace(\"unknown\",df['education'].mode()[0],inplace=True)"
   ]
  },
  {
   "cell_type": "code",
   "execution_count": 12,
   "id": "bc8070d8",
   "metadata": {
    "execution": {
     "iopub.execute_input": "2024-07-10T16:57:47.016452Z",
     "iopub.status.busy": "2024-07-10T16:57:47.016033Z",
     "iopub.status.idle": "2024-07-10T16:57:47.025522Z",
     "shell.execute_reply": "2024-07-10T16:57:47.024375Z"
    },
    "papermill": {
     "duration": 0.02301,
     "end_time": "2024-07-10T16:57:47.028393",
     "exception": false,
     "start_time": "2024-07-10T16:57:47.005383",
     "status": "completed"
    },
    "tags": []
   },
   "outputs": [
    {
     "data": {
      "text/plain": [
       "marital\n",
       "married     693\n",
       "single      241\n",
       "divorced    156\n",
       "Name: count, dtype: int64"
      ]
     },
     "execution_count": 12,
     "metadata": {},
     "output_type": "execute_result"
    }
   ],
   "source": [
    "df['marital'].value_counts()"
   ]
  },
  {
   "cell_type": "code",
   "execution_count": 13,
   "id": "b4d79013",
   "metadata": {
    "execution": {
     "iopub.execute_input": "2024-07-10T16:57:47.048487Z",
     "iopub.status.busy": "2024-07-10T16:57:47.048083Z",
     "iopub.status.idle": "2024-07-10T16:57:47.080519Z",
     "shell.execute_reply": "2024-07-10T16:57:47.079299Z"
    },
    "papermill": {
     "duration": 0.046027,
     "end_time": "2024-07-10T16:57:47.083442",
     "exception": false,
     "start_time": "2024-07-10T16:57:47.037415",
     "status": "completed"
    },
    "tags": []
   },
   "outputs": [
    {
     "data": {
      "text/plain": [
       "marital   age   education\n",
       "married   43.0  secondary    2\n",
       "          48.0  secondary    2\n",
       "          55.0  tertiary     2\n",
       "single    40.0  secondary    2\n",
       "divorced  30.0  secondary    1\n",
       "          37.0  primary      1\n",
       "                secondary    1\n",
       "          55.0  secondary    1\n",
       "married   29.0  tertiary     1\n",
       "          31.0  secondary    1\n",
       "          32.0  secondary    1\n",
       "          35.0  secondary    1\n",
       "          39.0  primary      1\n",
       "          40.0  secondary    1\n",
       "          46.0  secondary    1\n",
       "          53.0  secondary    1\n",
       "          57.0  tertiary     1\n",
       "single    28.0  tertiary     1\n",
       "          33.0  tertiary     1\n",
       "Name: count, dtype: int64"
      ]
     },
     "execution_count": 13,
     "metadata": {},
     "output_type": "execute_result"
    }
   ],
   "source": [
    "# list unemployes and their age and marital\n",
    "jobg=df.groupby('job')\n",
    "jobg[['marital','age','education']].value_counts().loc['unemployed']"
   ]
  },
  {
   "cell_type": "code",
   "execution_count": 14,
   "id": "533e9727",
   "metadata": {
    "execution": {
     "iopub.execute_input": "2024-07-10T16:57:47.103950Z",
     "iopub.status.busy": "2024-07-10T16:57:47.103532Z",
     "iopub.status.idle": "2024-07-10T16:57:47.118382Z",
     "shell.execute_reply": "2024-07-10T16:57:47.117121Z"
    },
    "papermill": {
     "duration": 0.028492,
     "end_time": "2024-07-10T16:57:47.121261",
     "exception": false,
     "start_time": "2024-07-10T16:57:47.092769",
     "status": "completed"
    },
    "tags": []
   },
   "outputs": [
    {
     "data": {
      "text/plain": [
       "job            education\n",
       "admin.         secondary    134\n",
       "               tertiary       8\n",
       "               primary        7\n",
       "blue-collar    secondary    212\n",
       "               primary      123\n",
       "               tertiary       3\n",
       "entrepreneur   secondary     16\n",
       "               tertiary      12\n",
       "               primary        4\n",
       "housemaid      primary        6\n",
       "               secondary      2\n",
       "               tertiary       2\n",
       "management     tertiary     110\n",
       "               secondary     33\n",
       "               primary        3\n",
       "retired        secondary     28\n",
       "               primary       15\n",
       "               tertiary       4\n",
       "self-employed  secondary     11\n",
       "               tertiary      11\n",
       "               primary        5\n",
       "services       secondary    120\n",
       "               primary       15\n",
       "               tertiary       6\n",
       "student        secondary     11\n",
       "               tertiary       3\n",
       "technician     secondary    125\n",
       "               tertiary      32\n",
       "               primary        6\n",
       "unemployed     secondary     15\n",
       "               tertiary       6\n",
       "               primary        2\n",
       "Name: count, dtype: int64"
      ]
     },
     "execution_count": 14,
     "metadata": {},
     "output_type": "execute_result"
    }
   ],
   "source": [
    "# list customers jobs and education\n",
    "jobg['education'].value_counts()"
   ]
  },
  {
   "cell_type": "code",
   "execution_count": 15,
   "id": "c48cfccf",
   "metadata": {
    "execution": {
     "iopub.execute_input": "2024-07-10T16:57:47.141685Z",
     "iopub.status.busy": "2024-07-10T16:57:47.141270Z",
     "iopub.status.idle": "2024-07-10T16:57:47.162204Z",
     "shell.execute_reply": "2024-07-10T16:57:47.160985Z"
    },
    "papermill": {
     "duration": 0.034652,
     "end_time": "2024-07-10T16:57:47.165247",
     "exception": false,
     "start_time": "2024-07-10T16:57:47.130595",
     "status": "completed"
    },
    "tags": []
   },
   "outputs": [
    {
     "data": {
      "text/html": [
       "<div>\n",
       "<style scoped>\n",
       "    .dataframe tbody tr th:only-of-type {\n",
       "        vertical-align: middle;\n",
       "    }\n",
       "\n",
       "    .dataframe tbody tr th {\n",
       "        vertical-align: top;\n",
       "    }\n",
       "\n",
       "    .dataframe thead th {\n",
       "        text-align: right;\n",
       "    }\n",
       "</style>\n",
       "<table border=\"1\" class=\"dataframe\">\n",
       "  <thead>\n",
       "    <tr style=\"text-align: right;\">\n",
       "      <th></th>\n",
       "      <th>mean</th>\n",
       "      <th>max</th>\n",
       "      <th>min</th>\n",
       "    </tr>\n",
       "    <tr>\n",
       "      <th>job</th>\n",
       "      <th></th>\n",
       "      <th></th>\n",
       "      <th></th>\n",
       "    </tr>\n",
       "  </thead>\n",
       "  <tbody>\n",
       "    <tr>\n",
       "      <th>admin.</th>\n",
       "      <td>737.449664</td>\n",
       "      <td>58544</td>\n",
       "      <td>-497</td>\n",
       "    </tr>\n",
       "    <tr>\n",
       "      <th>blue-collar</th>\n",
       "      <td>401.677515</td>\n",
       "      <td>12223</td>\n",
       "      <td>-932</td>\n",
       "    </tr>\n",
       "    <tr>\n",
       "      <th>entrepreneur</th>\n",
       "      <td>372.250000</td>\n",
       "      <td>1722</td>\n",
       "      <td>-184</td>\n",
       "    </tr>\n",
       "    <tr>\n",
       "      <th>housemaid</th>\n",
       "      <td>981.900000</td>\n",
       "      <td>6920</td>\n",
       "      <td>0</td>\n",
       "    </tr>\n",
       "    <tr>\n",
       "      <th>management</th>\n",
       "      <td>839.116438</td>\n",
       "      <td>24598</td>\n",
       "      <td>-248</td>\n",
       "    </tr>\n",
       "    <tr>\n",
       "      <th>retired</th>\n",
       "      <td>534.680851</td>\n",
       "      <td>7624</td>\n",
       "      <td>-331</td>\n",
       "    </tr>\n",
       "    <tr>\n",
       "      <th>self-employed</th>\n",
       "      <td>275.629630</td>\n",
       "      <td>2303</td>\n",
       "      <td>-364</td>\n",
       "    </tr>\n",
       "    <tr>\n",
       "      <th>services</th>\n",
       "      <td>486.893617</td>\n",
       "      <td>8823</td>\n",
       "      <td>-291</td>\n",
       "    </tr>\n",
       "    <tr>\n",
       "      <th>student</th>\n",
       "      <td>304.714286</td>\n",
       "      <td>948</td>\n",
       "      <td>0</td>\n",
       "    </tr>\n",
       "    <tr>\n",
       "      <th>technician</th>\n",
       "      <td>668.263804</td>\n",
       "      <td>45248</td>\n",
       "      <td>-500</td>\n",
       "    </tr>\n",
       "    <tr>\n",
       "      <th>unemployed</th>\n",
       "      <td>472.869565</td>\n",
       "      <td>5345</td>\n",
       "      <td>-825</td>\n",
       "    </tr>\n",
       "  </tbody>\n",
       "</table>\n",
       "</div>"
      ],
      "text/plain": [
       "                     mean    max  min\n",
       "job                                  \n",
       "admin.         737.449664  58544 -497\n",
       "blue-collar    401.677515  12223 -932\n",
       "entrepreneur   372.250000   1722 -184\n",
       "housemaid      981.900000   6920    0\n",
       "management     839.116438  24598 -248\n",
       "retired        534.680851   7624 -331\n",
       "self-employed  275.629630   2303 -364\n",
       "services       486.893617   8823 -291\n",
       "student        304.714286    948    0\n",
       "technician     668.263804  45248 -500\n",
       "unemployed     472.869565   5345 -825"
      ]
     },
     "execution_count": 15,
     "metadata": {},
     "output_type": "execute_result"
    }
   ],
   "source": [
    "# balance mean,max,min for customer job\n",
    "jobg['balance'].agg(['mean','max','min'])"
   ]
  },
  {
   "cell_type": "code",
   "execution_count": 16,
   "id": "02cd3f84",
   "metadata": {
    "execution": {
     "iopub.execute_input": "2024-07-10T16:57:47.187273Z",
     "iopub.status.busy": "2024-07-10T16:57:47.186876Z",
     "iopub.status.idle": "2024-07-10T16:57:47.198664Z",
     "shell.execute_reply": "2024-07-10T16:57:47.197418Z"
    },
    "papermill": {
     "duration": 0.026364,
     "end_time": "2024-07-10T16:57:47.201502",
     "exception": false,
     "start_time": "2024-07-10T16:57:47.175138",
     "status": "completed"
    },
    "tags": []
   },
   "outputs": [
    {
     "data": {
      "text/plain": [
       "count     1090.000000\n",
       "mean       564.387156\n",
       "std       2553.749723\n",
       "min       -932.000000\n",
       "25%         22.000000\n",
       "50%        173.000000\n",
       "75%        443.500000\n",
       "max      58544.000000\n",
       "Name: balance, dtype: float64"
      ]
     },
     "execution_count": 16,
     "metadata": {},
     "output_type": "execute_result"
    }
   ],
   "source": [
    "df['balance'].describe()"
   ]
  },
  {
   "cell_type": "code",
   "execution_count": 17,
   "id": "584cf8b8",
   "metadata": {
    "execution": {
     "iopub.execute_input": "2024-07-10T16:57:47.223005Z",
     "iopub.status.busy": "2024-07-10T16:57:47.222598Z",
     "iopub.status.idle": "2024-07-10T16:57:47.236739Z",
     "shell.execute_reply": "2024-07-10T16:57:47.235628Z"
    },
    "papermill": {
     "duration": 0.028105,
     "end_time": "2024-07-10T16:57:47.239468",
     "exception": false,
     "start_time": "2024-07-10T16:57:47.211363",
     "status": "completed"
    },
    "tags": []
   },
   "outputs": [
    {
     "data": {
      "text/html": [
       "<div>\n",
       "<style scoped>\n",
       "    .dataframe tbody tr th:only-of-type {\n",
       "        vertical-align: middle;\n",
       "    }\n",
       "\n",
       "    .dataframe tbody tr th {\n",
       "        vertical-align: top;\n",
       "    }\n",
       "\n",
       "    .dataframe thead th {\n",
       "        text-align: right;\n",
       "    }\n",
       "</style>\n",
       "<table border=\"1\" class=\"dataframe\">\n",
       "  <thead>\n",
       "    <tr style=\"text-align: right;\">\n",
       "      <th></th>\n",
       "      <th>balance</th>\n",
       "      <th>duration</th>\n",
       "    </tr>\n",
       "  </thead>\n",
       "  <tbody>\n",
       "    <tr>\n",
       "      <th>19</th>\n",
       "      <td>0</td>\n",
       "      <td>54</td>\n",
       "    </tr>\n",
       "    <tr>\n",
       "      <th>24</th>\n",
       "      <td>0</td>\n",
       "      <td>181</td>\n",
       "    </tr>\n",
       "    <tr>\n",
       "      <th>33</th>\n",
       "      <td>0</td>\n",
       "      <td>226</td>\n",
       "    </tr>\n",
       "    <tr>\n",
       "      <th>39</th>\n",
       "      <td>0</td>\n",
       "      <td>137</td>\n",
       "    </tr>\n",
       "    <tr>\n",
       "      <th>47</th>\n",
       "      <td>0</td>\n",
       "      <td>225</td>\n",
       "    </tr>\n",
       "    <tr>\n",
       "      <th>...</th>\n",
       "      <td>...</td>\n",
       "      <td>...</td>\n",
       "    </tr>\n",
       "    <tr>\n",
       "      <th>1000</th>\n",
       "      <td>0</td>\n",
       "      <td>164</td>\n",
       "    </tr>\n",
       "    <tr>\n",
       "      <th>1044</th>\n",
       "      <td>0</td>\n",
       "      <td>229</td>\n",
       "    </tr>\n",
       "    <tr>\n",
       "      <th>1070</th>\n",
       "      <td>0</td>\n",
       "      <td>234</td>\n",
       "    </tr>\n",
       "    <tr>\n",
       "      <th>1077</th>\n",
       "      <td>0</td>\n",
       "      <td>191</td>\n",
       "    </tr>\n",
       "    <tr>\n",
       "      <th>1080</th>\n",
       "      <td>0</td>\n",
       "      <td>112</td>\n",
       "    </tr>\n",
       "  </tbody>\n",
       "</table>\n",
       "<p>97 rows × 2 columns</p>\n",
       "</div>"
      ],
      "text/plain": [
       "      balance duration\n",
       "19          0       54\n",
       "24          0      181\n",
       "33          0      226\n",
       "39          0      137\n",
       "47          0      225\n",
       "...       ...      ...\n",
       "1000        0      164\n",
       "1044        0      229\n",
       "1070        0      234\n",
       "1077        0      191\n",
       "1080        0      112\n",
       "\n",
       "[97 rows x 2 columns]"
      ]
     },
     "execution_count": 17,
     "metadata": {},
     "output_type": "execute_result"
    }
   ],
   "source": [
    "df.loc[df['balance']==0,['balance','duration']]"
   ]
  },
  {
   "cell_type": "code",
   "execution_count": 18,
   "id": "ecf83f79",
   "metadata": {
    "execution": {
     "iopub.execute_input": "2024-07-10T16:57:47.262728Z",
     "iopub.status.busy": "2024-07-10T16:57:47.262300Z",
     "iopub.status.idle": "2024-07-10T16:57:47.281594Z",
     "shell.execute_reply": "2024-07-10T16:57:47.280242Z"
    },
    "papermill": {
     "duration": 0.034494,
     "end_time": "2024-07-10T16:57:47.284437",
     "exception": false,
     "start_time": "2024-07-10T16:57:47.249943",
     "status": "completed"
    },
    "tags": []
   },
   "outputs": [
    {
     "data": {
      "text/html": [
       "<div>\n",
       "<style scoped>\n",
       "    .dataframe tbody tr th:only-of-type {\n",
       "        vertical-align: middle;\n",
       "    }\n",
       "\n",
       "    .dataframe tbody tr th {\n",
       "        vertical-align: top;\n",
       "    }\n",
       "\n",
       "    .dataframe thead th {\n",
       "        text-align: right;\n",
       "    }\n",
       "</style>\n",
       "<table border=\"1\" class=\"dataframe\">\n",
       "  <thead>\n",
       "    <tr style=\"text-align: right;\">\n",
       "      <th></th>\n",
       "      <th>age</th>\n",
       "      <th>job</th>\n",
       "      <th>marital</th>\n",
       "      <th>education</th>\n",
       "      <th>balance</th>\n",
       "      <th>duration</th>\n",
       "    </tr>\n",
       "  </thead>\n",
       "  <tbody>\n",
       "    <tr>\n",
       "      <th>920</th>\n",
       "      <td>44.0</td>\n",
       "      <td>admin.</td>\n",
       "      <td>married</td>\n",
       "      <td>secondary</td>\n",
       "      <td>58544</td>\n",
       "      <td>144</td>\n",
       "    </tr>\n",
       "    <tr>\n",
       "      <th>446</th>\n",
       "      <td>39.0</td>\n",
       "      <td>technician</td>\n",
       "      <td>single</td>\n",
       "      <td>secondary</td>\n",
       "      <td>45248</td>\n",
       "      <td>1623</td>\n",
       "    </tr>\n",
       "    <tr>\n",
       "      <th>334</th>\n",
       "      <td>45.0</td>\n",
       "      <td>management</td>\n",
       "      <td>divorced</td>\n",
       "      <td>tertiary</td>\n",
       "      <td>24598</td>\n",
       "      <td>313</td>\n",
       "    </tr>\n",
       "    <tr>\n",
       "      <th>69</th>\n",
       "      <td>35.0</td>\n",
       "      <td>blue-collar</td>\n",
       "      <td>single</td>\n",
       "      <td>secondary</td>\n",
       "      <td>12223</td>\n",
       "      <td>177</td>\n",
       "    </tr>\n",
       "    <tr>\n",
       "      <th>34</th>\n",
       "      <td>51.0</td>\n",
       "      <td>management</td>\n",
       "      <td>married</td>\n",
       "      <td>tertiary</td>\n",
       "      <td>10635</td>\n",
       "      <td>336</td>\n",
       "    </tr>\n",
       "    <tr>\n",
       "      <th>...</th>\n",
       "      <td>...</td>\n",
       "      <td>...</td>\n",
       "      <td>...</td>\n",
       "      <td>...</td>\n",
       "      <td>...</td>\n",
       "      <td>...</td>\n",
       "    </tr>\n",
       "    <tr>\n",
       "      <th>462</th>\n",
       "      <td>43.0</td>\n",
       "      <td>blue-collar</td>\n",
       "      <td>married</td>\n",
       "      <td>secondary</td>\n",
       "      <td>-509</td>\n",
       "      <td>124</td>\n",
       "    </tr>\n",
       "    <tr>\n",
       "      <th>838</th>\n",
       "      <td>35.0</td>\n",
       "      <td>blue-collar</td>\n",
       "      <td>single</td>\n",
       "      <td>secondary</td>\n",
       "      <td>-532</td>\n",
       "      <td>149</td>\n",
       "    </tr>\n",
       "    <tr>\n",
       "      <th>100</th>\n",
       "      <td>44.0</td>\n",
       "      <td>blue-collar</td>\n",
       "      <td>married</td>\n",
       "      <td>secondary</td>\n",
       "      <td>-674</td>\n",
       "      <td>257</td>\n",
       "    </tr>\n",
       "    <tr>\n",
       "      <th>974</th>\n",
       "      <td>31.0</td>\n",
       "      <td>unemployed</td>\n",
       "      <td>married</td>\n",
       "      <td>secondary</td>\n",
       "      <td>-825</td>\n",
       "      <td>179</td>\n",
       "    </tr>\n",
       "    <tr>\n",
       "      <th>934</th>\n",
       "      <td>54.0</td>\n",
       "      <td>blue-collar</td>\n",
       "      <td>married</td>\n",
       "      <td>secondary</td>\n",
       "      <td>-932</td>\n",
       "      <td>799</td>\n",
       "    </tr>\n",
       "  </tbody>\n",
       "</table>\n",
       "<p>1090 rows × 6 columns</p>\n",
       "</div>"
      ],
      "text/plain": [
       "      age          job   marital  education  balance duration\n",
       "920  44.0       admin.   married  secondary    58544      144\n",
       "446  39.0   technician    single  secondary    45248     1623\n",
       "334  45.0   management  divorced   tertiary    24598      313\n",
       "69   35.0  blue-collar    single  secondary    12223      177\n",
       "34   51.0   management   married   tertiary    10635      336\n",
       "..    ...          ...       ...        ...      ...      ...\n",
       "462  43.0  blue-collar   married  secondary     -509      124\n",
       "838  35.0  blue-collar    single  secondary     -532      149\n",
       "100  44.0  blue-collar   married  secondary     -674      257\n",
       "974  31.0   unemployed   married  secondary     -825      179\n",
       "934  54.0  blue-collar   married  secondary     -932      799\n",
       "\n",
       "[1090 rows x 6 columns]"
      ]
     },
     "execution_count": 18,
     "metadata": {},
     "output_type": "execute_result"
    }
   ],
   "source": [
    "df.sort_values(by=['balance'],ascending=False)"
   ]
  },
  {
   "cell_type": "code",
   "execution_count": 19,
   "id": "80cf086f",
   "metadata": {
    "execution": {
     "iopub.execute_input": "2024-07-10T16:57:47.307856Z",
     "iopub.status.busy": "2024-07-10T16:57:47.306746Z",
     "iopub.status.idle": "2024-07-10T16:57:47.322880Z",
     "shell.execute_reply": "2024-07-10T16:57:47.321366Z"
    },
    "papermill": {
     "duration": 0.030718,
     "end_time": "2024-07-10T16:57:47.325562",
     "exception": false,
     "start_time": "2024-07-10T16:57:47.294844",
     "status": "completed"
    },
    "tags": []
   },
   "outputs": [
    {
     "data": {
      "text/html": [
       "<div>\n",
       "<style scoped>\n",
       "    .dataframe tbody tr th:only-of-type {\n",
       "        vertical-align: middle;\n",
       "    }\n",
       "\n",
       "    .dataframe tbody tr th {\n",
       "        vertical-align: top;\n",
       "    }\n",
       "\n",
       "    .dataframe thead th {\n",
       "        text-align: right;\n",
       "    }\n",
       "</style>\n",
       "<table border=\"1\" class=\"dataframe\">\n",
       "  <thead>\n",
       "    <tr style=\"text-align: right;\">\n",
       "      <th></th>\n",
       "      <th>mean</th>\n",
       "      <th>max</th>\n",
       "      <th>min</th>\n",
       "    </tr>\n",
       "    <tr>\n",
       "      <th>education</th>\n",
       "      <th></th>\n",
       "      <th></th>\n",
       "      <th></th>\n",
       "    </tr>\n",
       "  </thead>\n",
       "  <tbody>\n",
       "    <tr>\n",
       "      <th>primary</th>\n",
       "      <td>342.822581</td>\n",
       "      <td>5431</td>\n",
       "      <td>-454</td>\n",
       "    </tr>\n",
       "    <tr>\n",
       "      <th>secondary</th>\n",
       "      <td>564.452617</td>\n",
       "      <td>58544</td>\n",
       "      <td>-932</td>\n",
       "    </tr>\n",
       "    <tr>\n",
       "      <th>tertiary</th>\n",
       "      <td>773.345178</td>\n",
       "      <td>24598</td>\n",
       "      <td>-364</td>\n",
       "    </tr>\n",
       "  </tbody>\n",
       "</table>\n",
       "</div>"
      ],
      "text/plain": [
       "                 mean    max  min\n",
       "education                        \n",
       "primary    342.822581   5431 -454\n",
       "secondary  564.452617  58544 -932\n",
       "tertiary   773.345178  24598 -364"
      ]
     },
     "execution_count": 19,
     "metadata": {},
     "output_type": "execute_result"
    }
   ],
   "source": [
    "# balance for education\n",
    "edug=df.groupby('education')\n",
    "edug['balance'].agg(['mean','max','min'])"
   ]
  },
  {
   "cell_type": "code",
   "execution_count": 20,
   "id": "c4965f55",
   "metadata": {
    "execution": {
     "iopub.execute_input": "2024-07-10T16:57:47.349057Z",
     "iopub.status.busy": "2024-07-10T16:57:47.348633Z",
     "iopub.status.idle": "2024-07-10T16:57:47.364871Z",
     "shell.execute_reply": "2024-07-10T16:57:47.363559Z"
    },
    "papermill": {
     "duration": 0.030989,
     "end_time": "2024-07-10T16:57:47.367522",
     "exception": false,
     "start_time": "2024-07-10T16:57:47.336533",
     "status": "completed"
    },
    "tags": []
   },
   "outputs": [
    {
     "data": {
      "text/html": [
       "<div>\n",
       "<style scoped>\n",
       "    .dataframe tbody tr th:only-of-type {\n",
       "        vertical-align: middle;\n",
       "    }\n",
       "\n",
       "    .dataframe tbody tr th {\n",
       "        vertical-align: top;\n",
       "    }\n",
       "\n",
       "    .dataframe thead th {\n",
       "        text-align: right;\n",
       "    }\n",
       "</style>\n",
       "<table border=\"1\" class=\"dataframe\">\n",
       "  <thead>\n",
       "    <tr style=\"text-align: right;\">\n",
       "      <th></th>\n",
       "      <th>mean</th>\n",
       "      <th>max</th>\n",
       "      <th>min</th>\n",
       "    </tr>\n",
       "    <tr>\n",
       "      <th>marital</th>\n",
       "      <th></th>\n",
       "      <th></th>\n",
       "      <th></th>\n",
       "    </tr>\n",
       "  </thead>\n",
       "  <tbody>\n",
       "    <tr>\n",
       "      <th>divorced</th>\n",
       "      <td>586.750000</td>\n",
       "      <td>24598</td>\n",
       "      <td>-349</td>\n",
       "    </tr>\n",
       "    <tr>\n",
       "      <th>married</th>\n",
       "      <td>538.919192</td>\n",
       "      <td>58544</td>\n",
       "      <td>-932</td>\n",
       "    </tr>\n",
       "    <tr>\n",
       "      <th>single</th>\n",
       "      <td>623.145228</td>\n",
       "      <td>45248</td>\n",
       "      <td>-532</td>\n",
       "    </tr>\n",
       "  </tbody>\n",
       "</table>\n",
       "</div>"
      ],
      "text/plain": [
       "                mean    max  min\n",
       "marital                         \n",
       "divorced  586.750000  24598 -349\n",
       "married   538.919192  58544 -932\n",
       "single    623.145228  45248 -532"
      ]
     },
     "execution_count": 20,
     "metadata": {},
     "output_type": "execute_result"
    }
   ],
   "source": [
    "# balance for marital\n",
    "mari=df.groupby('marital')\n",
    "mari['balance'].agg(['mean','max','min'])"
   ]
  }
 ],
 "metadata": {
  "kaggle": {
   "accelerator": "none",
   "dataSources": [
    {
     "datasetId": 5359043,
     "sourceId": 8912273,
     "sourceType": "datasetVersion"
    }
   ],
   "dockerImageVersionId": 30732,
   "isGpuEnabled": false,
   "isInternetEnabled": true,
   "language": "python",
   "sourceType": "notebook"
  },
  "kernelspec": {
   "display_name": "Python 3",
   "language": "python",
   "name": "python3"
  },
  "language_info": {
   "codemirror_mode": {
    "name": "ipython",
    "version": 3
   },
   "file_extension": ".py",
   "mimetype": "text/x-python",
   "name": "python",
   "nbconvert_exporter": "python",
   "pygments_lexer": "ipython3",
   "version": "3.10.13"
  },
  "papermill": {
   "default_parameters": {},
   "duration": 5.617888,
   "end_time": "2024-07-10T16:57:47.900167",
   "environment_variables": {},
   "exception": null,
   "input_path": "__notebook__.ipynb",
   "output_path": "__notebook__.ipynb",
   "parameters": {},
   "start_time": "2024-07-10T16:57:42.282279",
   "version": "2.5.0"
  }
 },
 "nbformat": 4,
 "nbformat_minor": 5
}
